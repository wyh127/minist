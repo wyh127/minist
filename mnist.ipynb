{
 "cells": [
  {
   "cell_type": "markdown",
   "metadata": {},
   "source": [
    "## Mnist"
   ]
  },
  {
   "cell_type": "code",
   "execution_count": 105,
   "metadata": {},
   "outputs": [],
   "source": [
    "import pandas as pd\n",
    "import numpy as np\n",
    "\n",
    "import torch\n",
    "import torch.nn as nn\n",
    "import torch.utils.data"
   ]
  },
  {
   "cell_type": "code",
   "execution_count": 119,
   "metadata": {},
   "outputs": [],
   "source": [
    "train=pd.read_csv('data/train.csv')\n",
    "test=pd.read_csv('data/test.csv')\n",
    "\n",
    "train_x=np.asarray(train.iloc[:, 1:])\n",
    "train_y=np.asarray(train.iloc[:, 0])\n",
    "\n",
    "test_x=np.array(test)"
   ]
  },
  {
   "cell_type": "code",
   "execution_count": null,
   "metadata": {},
   "outputs": [],
   "source": [
    "device = torch.device(\"cuda:0\" if torch.cuda.is_available() else \"cpu\")\n",
    "\n",
    "train_x=torch.Tensor(train_x).to(device)\n",
    "train_y=torch.Tensor(train_y).to(device)\n",
    "\n",
    "test_x=torch.Tensor(test_x).to(device)\n",
    "test_x=test_x.view(-1, 1, 28, 28)"
   ]
  },
  {
   "cell_type": "code",
   "execution_count": 178,
   "metadata": {},
   "outputs": [],
   "source": [
    "class CNN(nn.Module):\n",
    "    def __init__(self):\n",
    "        super(CNN, self).__init__()\n",
    "        \n",
    "        self.cnn1=nn.Conv2d(1, 16, 3, padding=1)\n",
    "        self.relu1=nn.ReLU()\n",
    "        self.cnn2=nn.Conv2d(16, 16, 3, padding=1)\n",
    "        self.relu2=nn.ReLU()\n",
    "        self.max_pool1=nn.MaxPool2d(2)\n",
    "        \n",
    "        self.cnn3=nn.Conv2d(16, 32, 3, padding=1)\n",
    "        self.relu3=nn.ReLU()\n",
    "        self.cnn4=nn.Conv2d(32, 32, 3, padding=1)\n",
    "        self.relu4=nn.ReLU()\n",
    "        self.max_pool2=nn.MaxPool2d(2)\n",
    "        \n",
    "        self.fc=nn.Linear(32*7*7, 10)\n",
    "        #self.sm=nn.Softmax(dim=1)\n",
    "        \n",
    "        \n",
    "    def forward(self, x):\n",
    "        h=self.cnn1(x)\n",
    "        h=self.relu1(h)\n",
    "        h=self.cnn2(h)\n",
    "        h=self.relu2(h)\n",
    "        h=self.max_pool1(h)\n",
    "        \n",
    "        h=self.cnn3(h)\n",
    "        h=self.relu3(h)\n",
    "        h=self.cnn4(h)\n",
    "        h=self.relu4(h)\n",
    "        h=self.max_pool2(h)\n",
    "        \n",
    "        h=h.view(h.size(0), -1)\n",
    "        h=self.fc(h)\n",
    "        #h=self.sm(h)\n",
    "        return h"
   ]
  },
  {
   "cell_type": "code",
   "execution_count": 125,
   "metadata": {},
   "outputs": [],
   "source": [
    "train_tensor=torch.utils.data.TensorDataset(train_x, train_y)\n",
    "train_loader=torch.utils.data.DataLoader(train_tensor, batch_size=50, shuffle=False)"
   ]
  },
  {
   "cell_type": "code",
   "execution_count": 143,
   "metadata": {},
   "outputs": [],
   "source": [
    "model=CNN()\n",
    "model.to(device)\n",
    "loss=nn.CrossEntropyLoss()\n",
    "optimizer=torch.optim.Adam(model.parameters(), lr=0.0001)"
   ]
  },
  {
   "cell_type": "code",
   "execution_count": 186,
   "metadata": {},
   "outputs": [],
   "source": [
    "hist=[]\n",
    "model.train()\n",
    "for epoch in range(10):\n",
    "    for i, (X, y) in enumerate(train_loader):\n",
    "        X=X.view(-1, 1, 28, 28)\n",
    "        pred=model(X)\n",
    "        l=loss(pred, y.long())\n",
    "        hist.append(l.item())\n",
    "        \n",
    "        l.backward()\n",
    "        optimizer.step()\n",
    "        \n",
    "        optimizer.zero_grad()"
   ]
  },
  {
   "cell_type": "code",
   "execution_count": 187,
   "metadata": {},
   "outputs": [
    {
     "data": {
      "image/png": "[encoded data removed]",
      "text/plain": [
       "<Figure size 432x288 with 1 Axes>"
      ]
     },
     "metadata": {
      "needs_background": "light"
     },
     "output_type": "display_data"
    }
   ],
   "source": [
    "plt.plot(hist)\n",
    "plt.show()"
   ]
  },
  {
   "cell_type": "code",
   "execution_count": 167,
   "metadata": {},
   "outputs": [],
   "source": [
    "model.eval()\n",
    "pred=model(test_x)"
   ]
  },
  {
   "cell_type": "code",
   "execution_count": null,
   "metadata": {},
   "outputs": [],
   "source": [
    "pred=pred.argmax(1).cpu().numpy()"
   ]
  },
  {
   "cell_type": "code",
   "execution_count": 176,
   "metadata": {},
   "outputs": [
    {
     "data": {
      "text/plain": [
       "array([2, 5, 4, ..., 3, 4, 2])"
      ]
     },
     "execution_count": 176,
     "metadata": {},
     "output_type": "execute_result"
    }
   ],
   "source": [
    "pred"
   ]
  },
  {
   "cell_type": "code",
   "execution_count": 177,
   "metadata": {},
   "outputs": [],
   "source": [
    "np.savetxt(\"pred_cnn_adam.csv\", pred, delimiter=\",\")"
   ]
  }
 ],
 "metadata": {
  "kernelspec": {
   "display_name": "Python 3",
   "language": "python",
   "name": "python3"
  },
  "language_info": {
   "codemirror_mode": {
    "name": "ipython",
    "version": 3
   },
   "file_extension": ".py",
   "mimetype": "text/x-python",
   "name": "python",
   "nbconvert_exporter": "python",
   "pygments_lexer": "ipython3",
   "version": "3.7.1"
  }
 },
 "nbformat": 4,
 "nbformat_minor": 2
}
